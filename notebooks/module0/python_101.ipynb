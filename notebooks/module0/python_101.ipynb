{
 "cells": [
  {
   "cell_type": "markdown",
   "metadata": {},
   "source": [
    "# Python 101 for Computer Vision\n",
    "\n",
    "Welcome to the foundational Python programming module for computer vision! This module is designed for beginners who want to learn Python specifically for computer vision applications.\n",
    "\n",
    "## What You'll Learn\n",
    "\n",
    "In this module, we'll cover the essential Python concepts you need to understand before diving into computer vision:\n",
    "\n",
    "1. Python basics (variables, data types, operators)\n",
    "2. Control structures (conditionals, loops)\n",
    "3. Functions and modules\n",
    "4. Data structures (lists, dictionaries, tuples)\n",
    "5. File handling\n",
    "6. Introduction to NumPy for numerical computing\n",
    "7. Introduction to Matplotlib for visualization\n",
    "\n",
    "## Prerequisites\n",
    "\n",
    "No prior programming experience is required, but basic computer literacy is assumed."
   ]
  },
  {
   "cell_type": "markdown",
   "metadata": {},
   "source": [
    "## 1. Python Basics\n",
    "\n",
    "### 1.1 Variables and Data Types\n",
    "\n",
    "In Python, you don't need to declare variable types explicitly. Python automatically determines the type based on the value assigned."
   ]
  },
  {
   "cell_type": "code",
   "execution_count": null,
   "metadata": {},
   "outputs": [],
   "source": [
    "# Integer\n",
    "age = 25\n",
    "print(f\"Age: {age}, Type: {type(age)}\")\n",
    "\n",
    "# Float\n",
    "height = 5.9\n",
    "print(f\"Height: {height}, Type: {type(height)}\")\n",
    "\n",
    "# String\n",
    "name = \"Alice\"\n",
    "print(f\"Name: {name}, Type: {type(name)}\")\n",
    "\n",
    "# Boolean\n",
    "is_student = True\n",
    "print(f\"Is Student: {is_student}, Type: {type(is_student)}\")"
   ]
  },
  {
   "cell_type": "markdown",
   "metadata": {},
   "source": [
    "### 1.2 Basic Operators\n",
    "\n",
    "Python supports various operators for mathematical and logical operations."
   ]
  },
  {
   "cell_type": "code",
   "execution_count": null,
   "metadata": {},
   "outputs": [],
   "source": [
    "# Arithmetic operators\n",
    "a = 10\n",
    "b = 3\n",
    "\n",
    "print(f\"Addition: {a} + {b} = {a + b}\")\n",
    "print(f\"Subtraction: {a} - {b} = {a - b}\")\n",
    "print(f\"Multiplication: {a} * {b} = {a * b}\")\n",
    "print(f\"Division: {a} / {b} = {a / b}\")\n",
    "print(f\"Integer Division: {a} // {b} = {a // b}\")\n",
    "print(f\"Modulus: {a} % {b} = {a % b}\")\n",
    "print(f\"Exponentiation: {a} ** {b} = {a ** b}\")"
   ]
  },
  {
   "cell_type": "code",
   "execution_count": null,
   "metadata": {},
   "outputs": [],
   "source": [
    "# Comparison operators\n",
    "x = 5\n",
    "y = 10\n",
    "\n",
    "print(f\"{x} == {y}: {x == y}\")\n",
    "print(f\"{x} != {y}: {x != y}\")\n",
    "print(f\"{x} > {y}: {x > y}\")\n",
    "print(f\"{x} < {y}: {x < y}\")\n",
    "print(f\"{x} >= {y}: {x >= y}\")\n",
    "print(f\"{x} <= {y}: {x <= y}\")"
   ]
  },
  {
   "cell_type": "code",
   "execution_count": null,
   "metadata": {},
   "outputs": [],
   "source": [
    "# Logical operators\n",
    "p = True\n",
    "q = False\n",
    "\n",
    "print(f\"{p} and {q}: {p and q}\")\n",
    "print(f\"{p} or {q}: {p or q}\")\n",
    "print(f\"not {p}: {not p}\")"
   ]
  },
  {
   "cell_type": "markdown",
   "metadata": {},
   "source": [
    "## 2. Control Structures\n",
    "\n",
    "### 2.1 Conditionals\n",
    "\n",
    "Conditional statements allow you to execute different code paths based on certain conditions."
   ]
  },
  {
   "cell_type": "code",
   "execution_count": null,
   "metadata": {},
   "outputs": [],
   "source": [
    "temperature = 25\n",
    "\n",
    "if temperature > 30:\n",
    "    print(\"It's hot outside!\")\n",
    "elif temperature > 20:\n",
    "    print(\"It's a pleasant day.\")\n",
    "else:\n",
    "    print(\"It's cold outside!\")"
   ]
  },
  {
   "cell_type": "markdown",
   "metadata": {},
   "source": [
    "### 2.2 Loops\n",
    "\n",
    "Loops allow you to repeat code multiple times."
   ]
  },
  {
   "cell_type": "code",
   "execution_count": null,
   "metadata": {},
   "outputs": [],
   "source": [
    "# For loop\n",
    "print(\"Counting from 1 to 5:\")\n",
    "for i in range(1, 6):\n",
    "    print(i)"
   ]
  },
  {
   "cell_type": "code",
   "execution_count": null,
   "metadata": {},
   "outputs": [],
   "source": [
    "# While loop\n",
    "count = 0\n",
    "print(\"Counting with while loop:\")\n",
    "while count < 5:\n",
    "    count += 1\n",
    "    print(count)"
   ]
  },
  {
   "cell_type": "markdown",
   "metadata": {},
   "source": [
    "## 3. Functions\n",
    "\n",
    "Functions are reusable blocks of code that perform specific tasks."
   ]
  },
  {
   "cell_type": "code",
   "execution_count": null,
   "metadata": {},
   "outputs": [],
   "source": [
    "# Simple function\n",
    "def greet(name):\n",
    "    return f\"Hello, {name}!\"\n",
    "\n",
    "print(greet(\"Alice\"))"
   ]
  },
  {
   "cell_type": "code",
   "execution_count": null,
   "metadata": {},
   "outputs": [],
   "source": [
    "# Function with default parameter\n",
    "def calculate_area(length, width=1):\n",
    "    return length * width\n",
    "\n",
    "print(f\"Area (5x3): {calculate_area(5, 3)}\")\n",
    "print(f\"Area (5x1): {calculate_area(5)}\")  # Uses default width of 1"
   ]
  },
  {
   "cell_type": "markdown",
   "metadata": {},
   "source": [
    "## 4. Data Structures\n",
    "\n",
    "### 4.1 Lists\n",
    "\n",
    "Lists are ordered collections that can contain different types of elements."
   ]
  },
  {
   "cell_type": "code",
   "execution_count": null,
   "metadata": {},
   "outputs": [],
   "source": [
    "# Creating and accessing lists\n",
    "fruits = [\"apple\", \"banana\", \"orange\", \"grape\"]\n",
    "print(f\"Fruits: {fruits}\")\n",
    "print(f\"First fruit: {fruits[0]}\")\n",
    "print(f\"Last fruit: {fruits[-1]}\")"
   ]
  },
  {
   "cell_type": "code",
   "execution_count": null,
   "metadata": {},
   "outputs": [],
   "source": [
    "# List operations\n",
    "fruits.append(\"mango\")\n",
    "print(f\"After adding mango: {fruits}\")\n",
    "\n",
    "fruits.remove(\"banana\")\n",
    "print(f\"After removing banana: {fruits}\")\n",
    "\n",
    "print(f\"Number of fruits: {len(fruits)}\")"
   ]
  },
  {
   "cell_type": "markdown",
   "metadata": {},
   "source": [
    "### 4.2 Dictionaries\n",
    "\n",
    "Dictionaries store key-value pairs and are useful for organizing data."
   ]
  },
  {
   "cell_type": "code",
   "execution_count": null,
   "metadata": {},
   "outputs": [],
   "source": [
    "# Creating and accessing dictionaries\n",
    "student = {\n",
    "    \"name\": \"Alice\",\n",
    "    \"age\": 20,\n",
    "    \"major\": \"Computer Science\",\n",
    "    \"gpa\": 3.8\n",
    "}\n",
    "\n",
    "print(f\"Student name: {student['name']}\")\n",
    "print(f\"Student details: {student}\")"
   ]
  },
  {
   "cell_type": "code",
   "execution_count": null,
   "metadata": {},
   "outputs": [],
   "source": [
    "# Dictionary operations\n",
    "student[\"graduation_year\"] = 2024\n",
    "print(f\"Updated student info: {student}\")\n",
    "\n",
    "print(f\"Keys: {list(student.keys())}\")\n",
    "print(f\"Values: {list(student.values())}\")"
   ]
  },
  {
   "cell_type": "markdown",
   "metadata": {},
   "source": [
    "## 5. File Handling\n",
    "\n",
    "Working with files is essential for loading and saving data in computer vision applications."
   ]
  },
  {
   "cell_type": "code",
   "execution_count": null,
   "metadata": {},
   "outputs": [],
   "source": [
    "# Writing to a file\n",
    "with open(\"sample.txt\", \"w\") as file:\n",
    "    file.write(\"This is a sample text file.\\n\")\n",
    "    file.write(\"It contains multiple lines.\\n\")\n",
    "    file.write(\"Perfect for learning file handling in Python!\\n\")\n",
    "\n",
    "print(\"File 'sample.txt' has been created.\")"
   ]
  },
  {
   "cell_type": "code",
   "execution_count": null,
   "metadata": {},
   "outputs": [],
   "source": [
    "# Reading from a file\n",
    "with open(\"sample.txt\", \"r\") as file:\n",
    "    content = file.read()\n",
    "    print(\"File content:\")\n",
    "    print(content)"
   ]
  },
  {
   "cell_type": "markdown",
   "metadata": {},
   "source": [
    "## 6. Introduction to NumPy\n",
    "\n",
    "NumPy is a fundamental library for scientific computing in Python, especially important for computer vision."
   ]
  },
  {
   "cell_type": "code",
   "execution_count": null,
   "metadata": {},
   "outputs": [],
   "source": [
    "import numpy as np\n",
    "\n",
    "# Creating arrays\n",
    "arr1 = np.array([1, 2, 3, 4, 5])\n",
    "arr2 = np.array([[1, 2, 3], [4, 5, 6]])\n",
    "\n",
    "print(f\"1D Array: {arr1}\")\n",
    "print(f\"2D Array:\\n{arr2}\")\n",
    "print(f\"Shape of 2D array: {arr2.shape}\")"
   ]
  },
  {
   "cell_type": "code",
   "execution_count": null,
   "metadata": {},
   "outputs": [],
   "source": [
    "# Array operations\n",
    "a = np.array([1, 2, 3])\n",
    "b = np.array([4, 5, 6])\n",
    "\n",
    "print(f\"Addition: {a + b}\")\n",
    "print(f\"Multiplication: {a * b}\")\n",
    "print(f\"Dot product: {np.dot(a, b)}\")"
   ]
  },
  {
   "cell_type": "code",
   "execution_count": null,
   "metadata": {},
   "outputs": [],
   "source": [
    "# Creating special arrays\n",
    "zeros = np.zeros((3, 3))\n",
    "ones = np.ones((2, 4))\n",
    "identity = np.eye(3)\n",
    "\n",
    "print(f\"Zeros array:\\n{zeros}\\n\")\n",
    "print(f\"Ones array:\\n{ones}\\n\")\n",
    "print(f\"Identity matrix:\\n{identity}\")"
   ]
  },
  {
   "cell_type": "markdown",
   "metadata": {},
   "source": [
    "## 7. Introduction to Matplotlib\n",
    "\n",
    "Matplotlib is used for creating visualizations, which is important for understanding image data."
   ]
  },
  {
   "cell_type": "code",
   "execution_count": null,
   "metadata": {},
   "outputs": [],
   "source": [
    "import matplotlib.pyplot as plt\n",
    "import numpy as np\n",
    "\n",
    "# Simple line plot\n",
    "x = np.linspace(0, 10, 100)\n",
    "y = np.sin(x)\n",
    "\n",
    "plt.figure(figsize=(10, 6))\n",
    "plt.plot(x, y, label='sin(x)')\n",
    "plt.xlabel('x')\n",
    "plt.ylabel('y')\n",
    "plt.title('Simple Plot')\n",
    "plt.legend()\n",
    "plt.grid(True)\n",
    "plt.show()"
   ]
  },
  {
   "cell_type": "code",
   "execution_count": null,
   "metadata": {},
   "outputs": [],
   "source": [
    "# Bar chart\n",
    "categories = ['A', 'B', 'C', 'D', 'E']\n",
    "values = [23, 45, 56, 78, 32]\n",
    "\n",
    "plt.figure(figsize=(8, 5))\n",
    "plt.bar(categories, values, color='skyblue')\n",
    "plt.xlabel('Categories')\n",
    "plt.ylabel('Values')\n",
    "plt.title('Bar Chart Example')\n",
    "plt.show()"
   ]
  },
  {
   "cell_type": "markdown",
   "metadata": {},
   "source": [
    "## 8. Practice Exercises\n",
    "\n",
    "Try these exercises to reinforce your learning:\n",
    "\n",
    "1. Write a function that takes a list of numbers and returns the average.\n",
    "2. Create a dictionary to store information about your favorite movies (title, year, rating).\n",
    "3. Use NumPy to create a 5x5 matrix filled with random numbers between 0 and 1.\n",
    "4. Plot a histogram of 1000 random numbers generated from a normal distribution.\n",
    "5. Write a program that reads a text file and counts the frequency of each word."
   ]
  },
  {
   "cell_type": "markdown",
   "metadata": {},
   "source": [
    "## Summary\n",
    "\n",
    "In this module, you've learned the fundamental Python concepts needed for computer vision:\n",
    "\n",
    "- Basic data types and operators\n",
    "- Control structures (conditionals and loops)\n",
    "- Functions for code reusability\n",
    "- Essential data structures (lists, dictionaries)\n",
    "- File handling for data I/O\n",
    "- NumPy for numerical computing\n",
    "- Matplotlib for data visualization\n",
    "\n",
    "These foundations will serve you well as you progress through the computer vision modules. In the next module, we'll dive into the fundamentals of computer vision itself!"
   ]
  }
 ],
 "metadata": {
  "kernelspec": {
   "display_name": "Python 3",
   "language": "python",
   "name": "python3"
  },
  "language_info": {
   "codemirror_mode": {
    "name": "ipython",
    "version": 3
   },
   "file_extension": ".py",
   "mimetype": "text/x-python",
   "name": "python",
   "nbconvert_exporter": "python",
   "pygments_lexer": "ipython3",
   "version": "3.8.5"
  }
 },
 "nbformat": 4,
 "nbformat_minor": 4
}